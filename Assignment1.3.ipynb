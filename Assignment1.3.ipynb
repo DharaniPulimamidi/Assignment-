{
 "cells": [
  {
   "cell_type": "code",
   "execution_count": 2,
   "id": "8ab75f34",
   "metadata": {},
   "outputs": [
    {
     "name": "stdout",
     "output_type": "stream",
     "text": [
      "enter a value between 1 and 100:77\n",
      "your grade is C\n"
     ]
    }
   ],
   "source": [
    "#Take inputs\n",
    "x=int(input(\"enter a value between 1 and 100:\"))\n",
    "#Printing grades according to input value\n",
    "if(x>90):\n",
    "    print(\"your grade is A\")\n",
    "elif(x<=90 and x>80):\n",
    "    print(\"your grade is B\")\n",
    "elif(x<=80 and x>=70):\n",
    "    print(\"your grade is C\")\n",
    "elif(x<=70 and x>=60):\n",
    "    print(\"your grade is D\")\n",
    "else:\n",
    "    print(\"your grade is F\")"
   ]
  }
 ],
 "metadata": {
  "kernelspec": {
   "display_name": "Python 3 (ipykernel)",
   "language": "python",
   "name": "python3"
  },
  "language_info": {
   "codemirror_mode": {
    "name": "ipython",
    "version": 3
   },
   "file_extension": ".py",
   "mimetype": "text/x-python",
   "name": "python",
   "nbconvert_exporter": "python",
   "pygments_lexer": "ipython3",
   "version": "3.11.1"
  }
 },
 "nbformat": 4,
 "nbformat_minor": 5
}
