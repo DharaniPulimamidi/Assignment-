{
 "cells": [
  {
   "cell_type": "code",
   "execution_count": 1,
   "id": "47bff8ef",
   "metadata": {},
   "outputs": [
    {
     "name": "stdout",
     "output_type": "stream",
     "text": [
      "enter first number:5\n",
      "enter second number:4\n",
      "sum: 9.0\n",
      "difference: 1.0\n",
      "product: 20.0\n",
      "remainder: 1.0\n",
      "power: 625.0\n"
     ]
    }
   ],
   "source": [
    "# Take input from user\n",
    "num1= float(input(\"enter first number:\"))\n",
    "num2=float(input(\"enter second number:\"))\n",
    "#Perform arithmatic operations\n",
    "sum=num1+num2\n",
    "diff=num1-num2\n",
    "product=num1*num2\n",
    "remainder=num1%num2\n",
    "power=num1**num2\n",
    "#Print results\n",
    "print(\"sum:\",sum)\n",
    "print(\"difference:\",diff)\n",
    "print(\"product:\",product)\n",
    "print(\"remainder:\",remainder)\n",
    "print(\"power:\",power)"
   ]
  }
 ],
 "metadata": {
  "kernelspec": {
   "display_name": "Python 3 (ipykernel)",
   "language": "python",
   "name": "python3"
  },
  "language_info": {
   "codemirror_mode": {
    "name": "ipython",
    "version": 3
   },
   "file_extension": ".py",
   "mimetype": "text/x-python",
   "name": "python",
   "nbconvert_exporter": "python",
   "pygments_lexer": "ipython3",
   "version": "3.11.1"
  }
 },
 "nbformat": 4,
 "nbformat_minor": 5
}
